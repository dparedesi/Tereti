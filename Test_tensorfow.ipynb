{
  "nbformat": 4,
  "nbformat_minor": 0,
  "metadata": {
    "colab": {
      "name": "Copia de Test tensorfow.ipynb",
      "provenance": [],
      "collapsed_sections": [],
      "include_colab_link": true
    },
    "kernelspec": {
      "name": "python3",
      "display_name": "Python 3"
    }
  },
  "cells": [
    {
      "cell_type": "markdown",
      "metadata": {
        "id": "view-in-github",
        "colab_type": "text"
      },
      "source": [
        "<a href=\"https://colab.research.google.com/github/dparedesi/Tereti/blob/master/Test_tensorfow.ipynb\" target=\"_parent\"><img src=\"https://colab.research.google.com/assets/colab-badge.svg\" alt=\"Open In Colab\"/></a>"
      ]
    },
    {
      "cell_type": "code",
      "metadata": {
        "id": "ieb6nIF2FHoy",
        "colab_type": "code",
        "outputId": "e37d96d9-f561-4ffa-b3f3-5359bab7cd15",
        "colab": {
          "base_uri": "https://localhost:8080/",
          "height": 35
        }
      },
      "source": [
        "# Preparing the environment for Tereti\n",
        "print(\"hola Desi\")"
      ],
      "execution_count": 0,
      "outputs": [
        {
          "output_type": "stream",
          "text": [
            "hola Desi\n"
          ],
          "name": "stdout"
        }
      ]
    },
    {
      "cell_type": "code",
      "metadata": {
        "id": "SfY0YuDPc2ma",
        "colab_type": "code",
        "colab": {}
      },
      "source": [
        "# Variables\n",
        "hola = \"monica\"\n",
        "edad = 25\n",
        "altura = 1.6\n"
      ],
      "execution_count": 0,
      "outputs": []
    },
    {
      "cell_type": "code",
      "metadata": {
        "id": "y4tYA_Xzd21v",
        "colab_type": "code",
        "outputId": "8d071b86-d8e2-4e99-c76b-d4770069b8d0",
        "colab": {
          "base_uri": "https://localhost:8080/",
          "height": 53
        }
      },
      "source": [
        "\n",
        "import math\n",
        "\n",
        "print(math.factorial(5))\n",
        "\n",
        "print(\"prueba\")"
      ],
      "execution_count": 1,
      "outputs": [
        {
          "output_type": "stream",
          "text": [
            "120\n",
            "prueba\n"
          ],
          "name": "stdout"
        }
      ]
    }
  ]
}